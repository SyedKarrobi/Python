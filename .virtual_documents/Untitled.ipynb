#List
#1. Declare an empty list
empty_list = []


#2. Declare a list with more than 5 items
my_list = [1,2,3,4,5,6]


#3. Find the length of your list
Length_of_my_list = len (my_list)
print("Length_of_my_list:", Length_of_my_list) 



